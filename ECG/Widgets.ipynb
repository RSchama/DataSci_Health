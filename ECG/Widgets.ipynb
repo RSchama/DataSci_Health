{
 "cells": [
  {
   "cell_type": "markdown",
   "id": "db2a6c96",
   "metadata": {},
   "source": [
    "# Heart Disorders that can be identified with ECGs\n",
    "\n",
    "ECGs or electrocardiograms are "
   ]
  },
  {
   "cell_type": "markdown",
   "id": "06b6efe8",
   "metadata": {},
   "source": [
    "### myocardial infarction\n",
    "\n",
    "\n",
    "\n",
    "\n",
    "representative ECG image"
   ]
  },
  {
   "attachments": {},
   "cell_type": "markdown",
   "id": "d94c18b9",
   "metadata": {},
   "source": [
    "### Atrial fibrillation (AFib or AF)\n",
    "\n",
    "This is the most common type of treated heart arrhythmia, which is when the heart beats too slowly, too fast or in an irregular pattern. AFib happens when the normal beating in the two upper chambers of the heart (the two atria) is irregular, and blood doesn’t flow as well as it should from the atria to the lower chambers of the heart (the two ventricles). AFib may happen in brief episodes, or it may be a permanent condition. Whe this happens there is an increased risk of blood clots happening and increases a person’s risk for stroke, heart failure and other heart-related complicatios.  \n",
    "\n",
    "During atrial fibrillation, the heart's upper chambers (the atria) beat chaotically and irregularly — out of sync with the lower chambers (the ventricles) of the heart.  \n",
    "\n",
    "https://www.mayoclinic.org/-/media/kcms/gbs/patient-consumer/images/2014/07/07/14/43/mcdc11_heartforafib.jpg![image.png](attachment:image.png)\n",
    "\n",
    "\n",
    "\n",
    "\n",
    "representative ECG image\n",
    "\n",
    "Resources:  \n",
    "- CDC https://www.cdc.gov/heartdisease/atrial_fibrillation.htm\n",
    "- Mayo Clinic https://www.mayoclinic.org/diseases-conditions/atrial-fibrillation/symptoms-causes/syc-20350624\n"
   ]
  },
  {
   "cell_type": "markdown",
   "id": "3ba1b13e",
   "metadata": {},
   "source": [
    "### Atrial flutter\n",
    "\n",
    "Atrial flutter is a type of heart rhythm disorder (arrhythmia) caused by problems in the heart's electrical system. In atrial flutter, the heart's upper chambers (atria) beat too quickly. This causes the heart to beat in a fast, but usually regular, rhythm. Atrial flutter is similar to AFib, but in the latter the heart beats in irregular patterns. People with atrial flutter have a heart rhythm that's more organized and less chaotic than that of AFib. Sometimes a person may have episodes of both types of arrhythmia. As AFib, this disorder can also increase the risk of stroke, heart failure and other complications.    \n",
    "\n",
    "\n",
    "A normal heartbeat begins with an electrical impulse from the **sinus node**, a small area in the heart's right upper chamber (right atrium). During Atrial flutter a circular \n",
    "\n",
    "\n",
    "\n",
    "\n",
    "representative ECG image"
   ]
  }
 ],
 "metadata": {
  "kernelspec": {
   "display_name": "Python 3 (ipykernel)",
   "language": "python",
   "name": "python3"
  },
  "language_info": {
   "codemirror_mode": {
    "name": "ipython",
    "version": 3
   },
   "file_extension": ".py",
   "mimetype": "text/x-python",
   "name": "python",
   "nbconvert_exporter": "python",
   "pygments_lexer": "ipython3",
   "version": "3.8.2"
  }
 },
 "nbformat": 4,
 "nbformat_minor": 5
}
